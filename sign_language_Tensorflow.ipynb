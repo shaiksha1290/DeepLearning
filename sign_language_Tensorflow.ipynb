{
 "cells": [
  {
   "cell_type": "code",
   "execution_count": 239,
   "metadata": {},
   "outputs": [],
   "source": [
    "import pandas as pd\n",
    "import numpy as np\n",
    "import tensorflow as tf\n",
    "from scipy import misc\n",
    "from tensorflow.python.framework import ops\n",
    "import os\n",
    "\n",
    "import matplotlib.pyplot as plt\n",
    "\n",
    "%matplotlib inline"
   ]
  },
  {
   "cell_type": "code",
   "execution_count": 256,
   "metadata": {},
   "outputs": [],
   "source": [
    "def reshape_image(a) :\n",
    "    return a.reshape((a.shape[0]*a.shape[1]*a.shape[2],-1))\n",
    "\n",
    "\n",
    "def read_data(path) :\n",
    "    dataX = []\n",
    "    dataY = []\n",
    "    for signs in os.listdir(path) :\n",
    "        path_ext = path+\"\\\\\"+signs\n",
    "        temp = [reshape_image(misc.imread(path_ext+\"\\\\\"+i)) for i in os.listdir(path_ext)]\n",
    "        dataX.append(np.hstack(temp))\n",
    "        dataY.append(np.repeat(signs,len(temp)))\n",
    "\n",
    "    return np.hstack(dataX),np.hstack(dataY)"
   ]
  },
  {
   "cell_type": "code",
   "execution_count": 257,
   "metadata": {},
   "outputs": [],
   "source": [
    "x_train, y_train = read_data(r\"C:\\Users\\jbw738\\ALL_python_notebooks\\DL_tutorial\\Sign-Language-Digits-Dataset-master\\Dataset\")"
   ]
  },
  {
   "cell_type": "code",
   "execution_count": 258,
   "metadata": {},
   "outputs": [
    {
     "data": {
      "text/plain": [
       "array(['0', '1', '2', '3', '4', '5', '6', '7', '8', '9'], dtype='<U1')"
      ]
     },
     "execution_count": 258,
     "metadata": {},
     "output_type": "execute_result"
    }
   ],
   "source": [
    "np.unique(y_train)"
   ]
  },
  {
   "cell_type": "code",
   "execution_count": 259,
   "metadata": {},
   "outputs": [],
   "source": [
    "x_train = (x_train - np.mean(x_train))/np.std(x_train)"
   ]
  },
  {
   "cell_type": "code",
   "execution_count": 260,
   "metadata": {},
   "outputs": [],
   "source": [
    "def one_hot(y_train):\n",
    "    return tf.one_hot(y_train,depth=10)"
   ]
  },
  {
   "cell_type": "code",
   "execution_count": 261,
   "metadata": {
    "collapsed": true
   },
   "outputs": [],
   "source": [
    "with tf.Session() as ssn :\n",
    "    y_train = ssn.run(one_hot(y_train))\n",
    "\n",
    "y_train = y_train.T"
   ]
  },
  {
   "cell_type": "code",
   "execution_count": 262,
   "metadata": {},
   "outputs": [
    {
     "data": {
      "text/plain": [
       "(30000, 2059)"
      ]
     },
     "execution_count": 262,
     "metadata": {},
     "output_type": "execute_result"
    }
   ],
   "source": [
    "x_train.shape"
   ]
  },
  {
   "cell_type": "code",
   "execution_count": 263,
   "metadata": {},
   "outputs": [
    {
     "data": {
      "text/plain": [
       "(10, 2059)"
      ]
     },
     "execution_count": 263,
     "metadata": {},
     "output_type": "execute_result"
    }
   ],
   "source": [
    "y_train.shape"
   ]
  },
  {
   "cell_type": "code",
   "execution_count": 264,
   "metadata": {
    "collapsed": true
   },
   "outputs": [],
   "source": [
    "def placeholders_init(n_x,n_y) :\n",
    "    X = tf.placeholder(tf.float32,[n_x,None])\n",
    "    Y = tf.placeholder(tf.float32,[n_y,None])\n",
    "    \n",
    "    return X,Y\n",
    "    "
   ]
  },
  {
   "cell_type": "code",
   "execution_count": 265,
   "metadata": {
    "collapsed": true
   },
   "outputs": [],
   "source": [
    "def initialize_parameters() :\n",
    "    \n",
    "    W1 = tf.get_variable(\"W1\",shape=[50,30000],initializer=tf.contrib.layers.xavier_initializer(seed=1))\n",
    "    b1 = tf.get_variable(\"b1\",shape=[50,1],initializer=tf.zeros_initializer())\n",
    "    W2 = tf.get_variable(\"W2\",shape=[25,50],initializer=tf.contrib.layers.xavier_initializer(seed=1))\n",
    "    b2 = tf.get_variable(\"b2\",shape=[25,1],initializer=tf.zeros_initializer())\n",
    "    W3 = tf.get_variable(\"W3\",shape=[10,25],initializer=tf.contrib.layers.xavier_initializer(seed=1))\n",
    "    b3 = tf.get_variable(\"b3\",shape=[10,1],initializer=tf.zeros_initializer())\n",
    "    \n",
    "    parameters = { \"W1\" :W1,\n",
    "                   \"b1\" : b1,\n",
    "                  \"W2\" :W2,\n",
    "                  \"b2\" :b2,\n",
    "                  \"W3\" :W3,\n",
    "                  \"b3\" :b3\n",
    "    }\n",
    "    \n",
    "    return parameters\n",
    "    "
   ]
  },
  {
   "cell_type": "code",
   "execution_count": 266,
   "metadata": {
    "collapsed": true
   },
   "outputs": [],
   "source": [
    "def forward_prop(X,Y,parameters) :\n",
    "    \n",
    "    Z1 = tf.add(tf.matmul(parameters[\"W1\"],X),parameters[\"b1\"])\n",
    "    A1 = tf.nn.relu(Z1)\n",
    "    Z2 = tf.add(tf.matmul(parameters[\"W2\"],A1),parameters[\"b2\"])\n",
    "    A2 = tf.nn.relu(Z2)\n",
    "    Z3 = tf.add(tf.matmul(parameters[\"W3\"],A2),parameters[\"b3\"])\n",
    "    \n",
    "    return Z3\n",
    "    "
   ]
  },
  {
   "cell_type": "code",
   "execution_count": 267,
   "metadata": {},
   "outputs": [
    {
     "name": "stdout",
     "output_type": "stream",
     "text": [
      "Z3 = Tensor(\"Add_2:0\", shape=(10, ?), dtype=float32)\n"
     ]
    }
   ],
   "source": [
    "tf.reset_default_graph()\n",
    "\n",
    "with tf.Session() as ssn :\n",
    "    X, Y = placeholders_init(30000, 10)\n",
    "    param = initialize_parameters()\n",
    "    Z3  = forward_prop(X,Y,param)\n",
    "    print(\"Z3 = \" + str(Z3))\n",
    "    "
   ]
  },
  {
   "cell_type": "code",
   "execution_count": 268,
   "metadata": {
    "collapsed": true
   },
   "outputs": [],
   "source": [
    "def compute_cost(Z3,Y) :\n",
    "    \n",
    "    logits = tf.transpose(Z3)\n",
    "    labels = tf.transpose(Y)\n",
    "    \n",
    "    cost = tf.reduce_mean(tf.nn.softmax_cross_entropy_with_logits(labels=labels,logits=logits))\n",
    "    \n",
    "    return cost"
   ]
  },
  {
   "cell_type": "code",
   "execution_count": 269,
   "metadata": {},
   "outputs": [
    {
     "name": "stdout",
     "output_type": "stream",
     "text": [
      "cost = Tensor(\"Mean:0\", shape=(), dtype=float32)\n"
     ]
    }
   ],
   "source": [
    "tf.reset_default_graph()\n",
    "\n",
    "with tf.Session() as ssn :\n",
    "    X, Y = placeholders_init(30000, 10)\n",
    "    param = initialize_parameters()\n",
    "    Z3  = forward_prop(X,Y,param)\n",
    "    cost = compute_cost(Z3,Y)\n",
    "    print(\"cost = \" + str(cost))\n",
    "    "
   ]
  },
  {
   "cell_type": "code",
   "execution_count": 277,
   "metadata": {},
   "outputs": [],
   "source": [
    "def model(X_train,Y_train,learning_rate = 0.0001,num_epochs = 1000) :\n",
    "    \n",
    "    ops.reset_default_graph() \n",
    "    (n_x,m) = X_train.shape\n",
    "    n_y  = Y_train.shape[0]\n",
    "    \n",
    "    X,Y = placeholders_init(n_x,n_y)\n",
    "    \n",
    "    parameters = initialize_parameters()\n",
    "    \n",
    "    Z3 = forward_prop(X,Y,parameters)\n",
    "    \n",
    "    cost = compute_cost(Z3, Y)\n",
    "    \n",
    "    optimizer = tf.train.AdamOptimizer(learning_rate=learning_rate,epsilon=0.001).minimize(cost)\n",
    "    \n",
    "    init = tf.global_variables_initializer()\n",
    "    \n",
    "    with tf.Session() as sess :\n",
    "        \n",
    "        sess.run(init)\n",
    "        costs = []\n",
    "        \n",
    "        for epoch in range(num_epochs) :\n",
    "            epoch_cost = 0.\n",
    "            \n",
    "            _,epoch_cost = sess.run([optimizer,cost],feed_dict={X:X_train,Y:Y_train})\n",
    "            \n",
    "            if  epoch % 10 == 0 :\n",
    "                print(\"Cost after epochs %i : %f\"%(epoch,epoch_cost))\n",
    "            if epoch % 10 == 0 :\n",
    "                costs.append(epoch_cost)\n",
    "        \n",
    "        plt.plot(np.squeeze(costs))\n",
    "        plt.ylabel('cost')\n",
    "        plt.xlabel('iterations (per tens)')\n",
    "        plt.title(\"Learning rate =\" + str(learning_rate))\n",
    "        plt.show()\n",
    "        \n",
    "        correct_predictions = tf.equal(tf.argmax(Z3),tf.argmax(Y))\n",
    "        \n",
    "        accuracy = tf.reduce_mean(tf.cast(correct_predictions,\"float\"))\n",
    "        \n",
    "        print(\"Training Accuracy:\", accuracy.eval({X:X_train,Y:Y_train}))\n",
    "        #print(\"Test Accuracy:\", accuracy.eval({X:X_test,Y:Y_test}))\n",
    "        \n",
    "        \n",
    "    return parameters\n",
    "    \n",
    "    \n",
    "        \n",
    "        "
   ]
  },
  {
   "cell_type": "code",
   "execution_count": 278,
   "metadata": {},
   "outputs": [
    {
     "name": "stdout",
     "output_type": "stream",
     "text": [
      "Cost after epochs 0 : 2.584512\n",
      "Cost after epochs 10 : 1.982032\n",
      "Cost after epochs 20 : 1.597576\n",
      "Cost after epochs 30 : 1.211046\n",
      "Cost after epochs 40 : 0.919465\n",
      "Cost after epochs 50 : 0.702808\n",
      "Cost after epochs 60 : 0.549815\n",
      "Cost after epochs 70 : 0.440989\n",
      "Cost after epochs 80 : 0.360860\n",
      "Cost after epochs 90 : 0.299651\n",
      "Cost after epochs 100 : 0.251583\n",
      "Cost after epochs 110 : 0.213536\n",
      "Cost after epochs 120 : 0.183109\n",
      "Cost after epochs 130 : 0.158266\n",
      "Cost after epochs 140 : 0.137775\n",
      "Cost after epochs 150 : 0.120868\n",
      "Cost after epochs 160 : 0.106847\n",
      "Cost after epochs 170 : 0.095157\n",
      "Cost after epochs 180 : 0.085309\n",
      "Cost after epochs 190 : 0.076926\n",
      "Cost after epochs 200 : 0.069721\n",
      "Cost after epochs 210 : 0.063492\n",
      "Cost after epochs 220 : 0.058061\n",
      "Cost after epochs 230 : 0.053293\n",
      "Cost after epochs 240 : 0.049067\n",
      "Cost after epochs 250 : 0.045307\n",
      "Cost after epochs 260 : 0.041968\n",
      "Cost after epochs 270 : 0.038987\n",
      "Cost after epochs 280 : 0.036310\n",
      "Cost after epochs 290 : 0.033892\n",
      "Cost after epochs 300 : 0.031719\n",
      "Cost after epochs 310 : 0.029760\n",
      "Cost after epochs 320 : 0.027984\n",
      "Cost after epochs 330 : 0.026365\n",
      "Cost after epochs 340 : 0.024879\n",
      "Cost after epochs 350 : 0.023520\n",
      "Cost after epochs 360 : 0.022276\n",
      "Cost after epochs 370 : 0.021133\n",
      "Cost after epochs 380 : 0.020081\n",
      "Cost after epochs 390 : 0.019112\n",
      "Cost after epochs 400 : 0.018215\n",
      "Cost after epochs 410 : 0.017382\n",
      "Cost after epochs 420 : 0.016609\n",
      "Cost after epochs 430 : 0.015890\n",
      "Cost after epochs 440 : 0.015218\n",
      "Cost after epochs 450 : 0.014590\n",
      "Cost after epochs 460 : 0.014003\n",
      "Cost after epochs 470 : 0.013452\n",
      "Cost after epochs 480 : 0.012936\n",
      "Cost after epochs 490 : 0.012451\n",
      "Cost after epochs 500 : 0.011994\n",
      "Cost after epochs 510 : 0.011565\n",
      "Cost after epochs 520 : 0.011158\n",
      "Cost after epochs 530 : 0.010775\n",
      "Cost after epochs 540 : 0.010412\n",
      "Cost after epochs 550 : 0.010068\n",
      "Cost after epochs 560 : 0.009742\n",
      "Cost after epochs 570 : 0.009432\n",
      "Cost after epochs 580 : 0.009138\n",
      "Cost after epochs 590 : 0.008857\n",
      "Cost after epochs 600 : 0.008591\n",
      "Cost after epochs 610 : 0.008337\n",
      "Cost after epochs 620 : 0.008094\n",
      "Cost after epochs 630 : 0.007862\n",
      "Cost after epochs 640 : 0.007641\n",
      "Cost after epochs 650 : 0.007429\n",
      "Cost after epochs 660 : 0.007227\n",
      "Cost after epochs 670 : 0.007034\n",
      "Cost after epochs 680 : 0.006848\n",
      "Cost after epochs 690 : 0.006670\n",
      "Cost after epochs 700 : 0.006499\n",
      "Cost after epochs 710 : 0.006335\n",
      "Cost after epochs 720 : 0.006178\n",
      "Cost after epochs 730 : 0.006027\n",
      "Cost after epochs 740 : 0.005881\n",
      "Cost after epochs 750 : 0.005741\n",
      "Cost after epochs 760 : 0.005606\n",
      "Cost after epochs 770 : 0.005476\n",
      "Cost after epochs 780 : 0.005350\n",
      "Cost after epochs 790 : 0.005228\n",
      "Cost after epochs 800 : 0.005111\n",
      "Cost after epochs 810 : 0.004998\n",
      "Cost after epochs 820 : 0.004889\n",
      "Cost after epochs 830 : 0.004784\n",
      "Cost after epochs 840 : 0.004682\n",
      "Cost after epochs 850 : 0.004584\n",
      "Cost after epochs 860 : 0.004489\n",
      "Cost after epochs 870 : 0.004397\n",
      "Cost after epochs 880 : 0.004308\n",
      "Cost after epochs 890 : 0.004222\n",
      "Cost after epochs 900 : 0.004139\n",
      "Cost after epochs 910 : 0.004058\n",
      "Cost after epochs 920 : 0.003980\n",
      "Cost after epochs 930 : 0.003903\n",
      "Cost after epochs 940 : 0.003830\n",
      "Cost after epochs 950 : 0.003758\n",
      "Cost after epochs 960 : 0.003688\n",
      "Cost after epochs 970 : 0.003621\n",
      "Cost after epochs 980 : 0.003555\n",
      "Cost after epochs 990 : 0.003491\n"
     ]
    },
    {
     "data": {
      "image/png": "[encoded data removed]",
      "text/plain": [
       "<matplotlib.figure.Figure at 0x1df2137ca90>"
      ]
     },
     "metadata": {},
     "output_type": "display_data"
    },
    {
     "name": "stdout",
     "output_type": "stream",
     "text": [
      "Training Accuracy: 1.0\n"
     ]
    }
   ],
   "source": [
    "tf.reset_default_graph()\n",
    "parameters = model(x_train,y_train)"
   ]
  },
  {
   "cell_type": "code",
   "execution_count": null,
   "metadata": {
    "collapsed": true
   },
   "outputs": [],
   "source": []
  },
  {
   "cell_type": "code",
   "execution_count": null,
   "metadata": {
    "collapsed": true
   },
   "outputs": [],
   "source": []
  },
  {
   "cell_type": "code",
   "execution_count": null,
   "metadata": {
    "collapsed": true
   },
   "outputs": [],
   "source": []
  },
  {
   "cell_type": "code",
   "execution_count": null,
   "metadata": {
    "collapsed": true
   },
   "outputs": [],
   "source": []
  }
 ],
 "metadata": {
  "kernelspec": {
   "display_name": "Python 3",
   "language": "python",
   "name": "python3"
  },
  "language_info": {
   "codemirror_mode": {
    "name": "ipython",
    "version": 3
   },
   "file_extension": ".py",
   "mimetype": "text/x-python",
   "name": "python",
   "nbconvert_exporter": "python",
   "pygments_lexer": "ipython3",
   "version": "3.6.1"
  }
 },
 "nbformat": 4,
 "nbformat_minor": 2
}
