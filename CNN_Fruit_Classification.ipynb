{
 "cells": [
  {
   "cell_type": "code",
   "execution_count": 87,
   "metadata": {},
   "outputs": [],
   "source": [
    "from keras.layers import Dense,Conv2D, Flatten, MaxPooling2D, Dropout,Activation,BatchNormalization\n",
    "from keras.models import Sequential,Model\n",
    "from keras.optimizers import Adamax\n",
    "import keras\n",
    "import pandas as pd\n",
    "import numpy as np\n",
    "import os\n",
    "import scipy\n",
    "import warnings\n",
    "\n",
    "warnings.filterwarnings('ignore')"
   ]
  },
  {
   "cell_type": "markdown",
   "metadata": {},
   "source": [
    "## Loading the data"
   ]
  },
  {
   "cell_type": "code",
   "execution_count": 88,
   "metadata": {
    "collapsed": true
   },
   "outputs": [],
   "source": [
    "path_ = r\"C:\\Users\\jbw738\\ALL_python_notebooks\\DL_tutorial\\Transfer_Learning\\fruits-360_dataset_2018_05_26\\fruits-360\""
   ]
  },
  {
   "cell_type": "code",
   "execution_count": 89,
   "metadata": {},
   "outputs": [],
   "source": [
    "training_fruit_img = []\n",
    "training_label = []\n",
    "for folder in os.listdir(path_+\"\\Training\") :\n",
    "    for img in os.listdir(path_+\"\\Training\"+\"\\\\\"+folder) :\n",
    "        temp = scipy.misc.imread(path_+\"\\Training\"+\"\\\\\"+folder+\"\\\\\"+img)\n",
    "        temp = scipy.misc.imresize(temp,(64,64))\n",
    "        training_fruit_img.append(temp)\n",
    "        training_label.append(folder)"
   ]
  },
  {
   "cell_type": "code",
   "execution_count": 90,
   "metadata": {},
   "outputs": [],
   "source": [
    "training_fruit_img = np.array(training_fruit_img)\n",
    "training_label = np.array(training_label)"
   ]
  },
  {
   "cell_type": "code",
   "execution_count": 91,
   "metadata": {
    "collapsed": true
   },
   "outputs": [],
   "source": [
    "label_to_id = {k:v for v,k in enumerate(np.unique(training_label))}\n",
    "id_to_label = {v:k for v,k in enumerate(np.unique(training_label))}"
   ]
  },
  {
   "cell_type": "code",
   "execution_count": 92,
   "metadata": {},
   "outputs": [],
   "source": [
    "training_label_id = np.array([label_to_id[i] for i in training_label])"
   ]
  },
  {
   "cell_type": "code",
   "execution_count": 93,
   "metadata": {},
   "outputs": [
    {
     "data": {
      "text/plain": [
       "((31688, 64, 64, 3), (31688,))"
      ]
     },
     "execution_count": 93,
     "metadata": {},
     "output_type": "execute_result"
    }
   ],
   "source": [
    "training_fruit_img.shape,training_label_id.shape"
   ]
  },
  {
   "cell_type": "code",
   "execution_count": 94,
   "metadata": {
    "collapsed": true
   },
   "outputs": [],
   "source": [
    "validation_fruit_img = []\n",
    "validation_label = []\n",
    "for folder in os.listdir(path_+\"\\Validation\") :\n",
    "    for img in os.listdir(path_+\"\\Validation\"+\"\\\\\"+folder) :\n",
    "        temp = scipy.misc.imread(path_+\"\\Validation\"+\"\\\\\"+folder+\"\\\\\"+img)\n",
    "        temp = scipy.misc.imresize(temp,(64,64))\n",
    "        validation_fruit_img.append(temp)\n",
    "        validation_label.append(folder)\n",
    "\n",
    "validation_fruit_img = np.array(validation_fruit_img)\n",
    "validation_label = np.array(validation_label)    \n",
    "\n",
    "validation_label_id = np.array([label_to_id[i] for i in validation_label])"
   ]
  },
  {
   "cell_type": "code",
   "execution_count": 95,
   "metadata": {},
   "outputs": [
    {
     "data": {
      "text/plain": [
       "((10657, 64, 64, 3), (10657,))"
      ]
     },
     "execution_count": 95,
     "metadata": {},
     "output_type": "execute_result"
    }
   ],
   "source": [
    "validation_fruit_img.shape,validation_label.shape"
   ]
  },
  {
   "cell_type": "code",
   "execution_count": 96,
   "metadata": {
    "collapsed": true
   },
   "outputs": [],
   "source": [
    "x_train, x_test = training_fruit_img, validation_fruit_img\n",
    "y_train, y_test = training_label_id, validation_label_id"
   ]
  },
  {
   "cell_type": "code",
   "execution_count": 97,
   "metadata": {
    "collapsed": true
   },
   "outputs": [],
   "source": [
    "x_train = x_train/255\n",
    "x_test = x_test/255"
   ]
  },
  {
   "cell_type": "code",
   "execution_count": 98,
   "metadata": {
    "collapsed": true
   },
   "outputs": [],
   "source": [
    "x_flat_train = x_train.reshape(x_train.shape[0],64*64*3)\n",
    "x_flat_test = x_test.reshape(x_test.shape[0],64*64*3)"
   ]
  },
  {
   "cell_type": "code",
   "execution_count": 99,
   "metadata": {},
   "outputs": [],
   "source": [
    "y_train = keras.utils.to_categorical(y_train)\n",
    "y_test = keras.utils.to_categorical(y_test)"
   ]
  },
  {
   "cell_type": "markdown",
   "metadata": {},
   "source": [
    "## Model"
   ]
  },
  {
   "cell_type": "code",
   "execution_count": 100,
   "metadata": {
    "collapsed": true
   },
   "outputs": [],
   "source": [
    "num_classes = len(np.unique(training_label))"
   ]
  },
  {
   "cell_type": "code",
   "execution_count": 105,
   "metadata": {
    "collapsed": true
   },
   "outputs": [],
   "source": [
    "model = Sequential()"
   ]
  },
  {
   "cell_type": "code",
   "execution_count": 106,
   "metadata": {},
   "outputs": [
    {
     "name": "stdout",
     "output_type": "stream",
     "text": [
      "_________________________________________________________________\n",
      "Layer (type)                 Output Shape              Param #   \n",
      "=================================================================\n",
      "conv2d_8 (Conv2D)            (None, 64, 64, 32)        896       \n",
      "_________________________________________________________________\n",
      "batch_normalization_7 (Batch (None, 64, 64, 32)        128       \n",
      "_________________________________________________________________\n",
      "max_pooling2d_7 (MaxPooling2 (None, 32, 32, 32)        0         \n",
      "_________________________________________________________________\n",
      "conv2d_9 (Conv2D)            (None, 32, 32, 32)        9248      \n",
      "_________________________________________________________________\n",
      "batch_normalization_8 (Batch (None, 32, 32, 32)        128       \n",
      "_________________________________________________________________\n",
      "max_pooling2d_8 (MaxPooling2 (None, 16, 16, 32)        0         \n",
      "_________________________________________________________________\n",
      "dropout_6 (Dropout)          (None, 16, 16, 32)        0         \n",
      "_________________________________________________________________\n",
      "flatten_4 (Flatten)          (None, 8192)              0         \n",
      "_________________________________________________________________\n",
      "dense_7 (Dense)              (None, 256)               2097408   \n",
      "_________________________________________________________________\n",
      "dense_8 (Dense)              (None, 64)                16448     \n",
      "_________________________________________________________________\n",
      "activation_4 (Activation)    (None, 64)                0         \n",
      "=================================================================\n",
      "Total params: 2,124,256\n",
      "Trainable params: 2,124,128\n",
      "Non-trainable params: 128\n",
      "_________________________________________________________________\n"
     ]
    }
   ],
   "source": [
    "model.add(Conv2D(32,kernel_size=(3,3),input_shape=(64,64,3),padding='same'))\n",
    "model.add(BatchNormalization())\n",
    "model.add(MaxPooling2D(pool_size=(2,2)))\n",
    "\n",
    "model.add(Conv2D(32,kernel_size=(3,3),padding='same'))\n",
    "model.add(BatchNormalization())\n",
    "model.add(MaxPooling2D(pool_size=(2,2)))\n",
    "model.add(Dropout(0.2))\n",
    "\n",
    "model.add(Flatten())\n",
    "model.add(Dense(256,activation='relu'))\n",
    "model.add(Dense(num_classes))\n",
    "model.add(Activation('softmax'))\n",
    "\n",
    "model.summary()"
   ]
  },
  {
   "cell_type": "code",
   "execution_count": 107,
   "metadata": {},
   "outputs": [],
   "source": [
    "model.compile(optimizer=Adamax(),\n",
    "              loss='categorical_crossentropy',\n",
    "             metrics = [\"accuracy\"])"
   ]
  },
  {
   "cell_type": "code",
   "execution_count": 108,
   "metadata": {},
   "outputs": [
    {
     "name": "stdout",
     "output_type": "stream",
     "text": [
      "Train on 31688 samples, validate on 10657 samples\n",
      "Epoch 1/5\n",
      "31688/31688 [==============================] - 566s 18ms/step - loss: 0.5328 - acc: 0.8818 - val_loss: 0.3465 - val_acc: 0.9137\n",
      "Epoch 2/5\n",
      "31688/31688 [==============================] - 584s 18ms/step - loss: 0.0501 - acc: 0.9889 - val_loss: 0.2179 - val_acc: 0.9397\n",
      "Epoch 3/5\n",
      "31688/31688 [==============================] - 583s 18ms/step - loss: 0.0343 - acc: 0.9904 - val_loss: 0.2806 - val_acc: 0.9249\n",
      "Epoch 4/5\n",
      "31688/31688 [==============================] - 585s 18ms/step - loss: 0.0304 - acc: 0.9909 - val_loss: 0.4537 - val_acc: 0.9016\n",
      "Epoch 5/5\n",
      "31688/31688 [==============================] - 583s 18ms/step - loss: 0.0263 - acc: 0.9910 - val_loss: 0.2535 - val_acc: 0.9301\n"
     ]
    }
   ],
   "source": [
    "history = model.fit(x=x_train,\n",
    "         y=y_train,\n",
    "         batch_size = 64,\n",
    "         epochs = 5,\n",
    "         verbose=1,\n",
    "         validation_data = (x_test,y_test))"
   ]
  },
  {
   "cell_type": "code",
   "execution_count": null,
   "metadata": {
    "collapsed": true
   },
   "outputs": [],
   "source": []
  }
 ],
 "metadata": {
  "kernelspec": {
   "display_name": "Python 3",
   "language": "python",
   "name": "python3"
  },
  "language_info": {
   "codemirror_mode": {
    "name": "ipython",
    "version": 3
   },
   "file_extension": ".py",
   "mimetype": "text/x-python",
   "name": "python",
   "nbconvert_exporter": "python",
   "pygments_lexer": "ipython3",
   "version": "3.6.1"
  }
 },
 "nbformat": 4,
 "nbformat_minor": 2
}
